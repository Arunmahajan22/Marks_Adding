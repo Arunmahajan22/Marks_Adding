{
 "cells": [
  {
   "cell_type": "code",
   "execution_count": 7,
   "id": "ee726702-6901-41af-b545-569035097e81",
   "metadata": {},
   "outputs": [],
   "source": [
    "import csv\n",
    "\n",
    "input_file = \"C:\\\\Users\\\\arunm\\\\OneDrive\\\\Desktop\\\\Mini Project - Marks Adding.csv\"\n",
    "output_file = \"C:\\\\Users\\\\arunm\\\\OneDrive\\\\Desktop\\\\after_adding_marks\\\\after_sorting.csv\"  # Added .csv to the output file name\n",
    "marks_dict = {}\n",
    "\n",
    "# Open CSV file using csv.reader\n",
    "with open(input_file, 'r', newline='') as csvfile:\n",
    "    reader = csv.reader(csvfile)\n",
    "    \n",
    "    # Skip the header row\n",
    "    next(reader)  # Skips the first line (header)\n",
    "    \n",
    "    # Process each row in the CSV\n",
    "    for line in reader:\n",
    "        roll_no = line[0]  # Assuming first column is roll number\n",
    "        marks = int(line[1])  # Assuming second column is marks\n",
    "        \n",
    "        # Update marks in dictionary\n",
    "        if roll_no in marks_dict:\n",
    "            marks_dict[roll_no] += marks\n",
    "        else:\n",
    "            marks_dict[roll_no] = marks\n",
    "\n",
    "# Write the results to the output file\n",
    "with open(output_file, 'w', newline='') as csvfile:\n",
    "    writer = csv.writer(csvfile)\n",
    "    \n",
    "    # Write header\n",
    "    writer.writerow(['Roll No', 'Total Marks'])  # Optional: Write header if needed\n",
    "    \n",
    "    # Write each roll number and total marks to the output file\n",
    "    for roll_no, total_marks in marks_dict.items():\n",
    "        writer.writerow([roll_no, total_marks])\n"
   ]
  },
  {
   "cell_type": "code",
   "execution_count": null,
   "id": "e6a48d9d-87f7-4642-947d-1a955b708675",
   "metadata": {},
   "outputs": [],
   "source": []
  }
 ],
 "metadata": {
  "kernelspec": {
   "display_name": "Python 3 (ipykernel)",
   "language": "python",
   "name": "python3"
  },
  "language_info": {
   "codemirror_mode": {
    "name": "ipython",
    "version": 3
   },
   "file_extension": ".py",
   "mimetype": "text/x-python",
   "name": "python",
   "nbconvert_exporter": "python",
   "pygments_lexer": "ipython3",
   "version": "3.12.1"
  }
 },
 "nbformat": 4,
 "nbformat_minor": 5
}
